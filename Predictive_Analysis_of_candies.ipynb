{
  "nbformat": 4,
  "nbformat_minor": 0,
  "metadata": {
    "colab": {
      "name": "Predictive Analysis of candies.ipynb",
      "provenance": [],
      "collapsed_sections": [],
      "authorship_tag": "ABX9TyPnK0lh7CVdYcWP2AuFxKeE",
      "include_colab_link": true
    },
    "kernelspec": {
      "name": "python3",
      "display_name": "Python 3"
    }
  },
  "cells": [
    {
      "cell_type": "markdown",
      "metadata": {
        "id": "view-in-github",
        "colab_type": "text"
      },
      "source": [
        "<a href=\"https://colab.research.google.com/github/waliamehak/predictiveAnalysisOfCandies/blob/main/Predictive_Analysis_of_candies.ipynb\" target=\"_parent\"><img src=\"https://colab.research.google.com/assets/colab-badge.svg\" alt=\"Open In Colab\"/></a>"
      ]
    },
    {
      "cell_type": "markdown",
      "metadata": {
        "id": "X91Y6OqnqEw7"
      },
      "source": [
        "##Mehak Jeet Singh Walia"
      ]
    },
    {
      "cell_type": "markdown",
      "metadata": {
        "id": "Qf17PFU7xJSG"
      },
      "source": [
        "#**Determine a Proper Model** \n",
        "**Mission-** I will look at the ingredients of a candy and its win percentage, and then predict if a new candy would be a hit or not based on its ingredients.  \n",
        "So, in our case we want to perform a predictive analysis. So based on multiple features, we want to determine one single attribute. That is, success of a candy (winpercent) is based on the ingredients of that particular candy and also loosely based on the price of that candy.  \n",
        "At first, I thought I will perform a multiple linear regression on the model but that did not turn out too well for me. The reason behind this was the data is in binary form. Upon some research, I found there is all together different form of regression present for such scenario.  \n",
        "As what I want to determine is of dichotomous nature (successful or unsuccessful) and is dependent on one or more variables, logistic regression would be the suitable fit to create our model.\n"
      ]
    },
    {
      "cell_type": "markdown",
      "metadata": {
        "id": "XJD9SH7j7sDh"
      },
      "source": [
        "#**Obtaining, scrubbing and formatting data**\n"
      ]
    },
    {
      "cell_type": "code",
      "metadata": {
        "id": "W6yNsf6qrHDT"
      },
      "source": [
        "import pandas as pd\n",
        "from google.colab import files\n",
        "import io\n",
        "import numpy as np\n",
        "import matplotlib.pyplot as plt\n",
        "import seaborn as sns"
      ],
      "execution_count": null,
      "outputs": []
    },
    {
      "cell_type": "code",
      "metadata": {
        "colab": {
          "resources": {
            "http://localhost:8080/nbextensions/google.colab/files.js": {
              "data": "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",
              "ok": true,
              "headers": [
                [
                  "content-type",
                  "application/javascript"
                ]
              ],
              "status": 200,
              "status_text": ""
            }
          },
          "base_uri": "https://localhost:8080/",
          "height": 73
        },
        "id": "gMyA2eYiRXYg",
        "outputId": "e3852e04-38cc-4be1-f9e3-09efb7017a15"
      },
      "source": [
        "uploaded=files.upload()"
      ],
      "execution_count": null,
      "outputs": [
        {
          "output_type": "display_data",
          "data": {
            "text/html": [
              "\n",
              "     <input type=\"file\" id=\"files-6ff39515-42f0-4723-a084-a24e0e3d7a18\" name=\"files[]\" multiple disabled\n",
              "        style=\"border:none\" />\n",
              "     <output id=\"result-6ff39515-42f0-4723-a084-a24e0e3d7a18\">\n",
              "      Upload widget is only available when the cell has been executed in the\n",
              "      current browser session. Please rerun this cell to enable.\n",
              "      </output>\n",
              "      <script src=\"/nbextensions/google.colab/files.js\"></script> "
            ],
            "text/plain": [
              "<IPython.core.display.HTML object>"
            ]
          },
          "metadata": {
            "tags": []
          }
        },
        {
          "output_type": "stream",
          "text": [
            "Saving candy-data.csv to candy-data.csv\n"
          ],
          "name": "stdout"
        }
      ]
    },
    {
      "cell_type": "code",
      "metadata": {
        "colab": {
          "base_uri": "https://localhost:8080/"
        },
        "id": "SSvk370bGo_U",
        "outputId": "c0ead727-5f94-45c2-c5ce-c3270b12e912"
      },
      "source": [
        "uploaded"
      ],
      "execution_count": null,
      "outputs": [
        {
          "output_type": "execute_result",
          "data": {
            "text/plain": [
              "{'candy-data.csv': b'competitorname,chocolate,fruity,caramel,peanutyalmondy,nougat,crispedricewafer,hard,bar,pluribus,sugarpercent,pricepercent,winpercent\\n100 Grand,1,0,1,0,0,1,0,1,0,.73199999,.86000001,66.971725\\n3 Musketeers,1,0,0,0,1,0,0,1,0,.60399997,.51099998,67.602936\\nOne dime,0,0,0,0,0,0,0,0,0,.011,.116,32.261086\\nOne quarter,0,0,0,0,0,0,0,0,0,.011,.51099998,46.116505\\nAir Heads,0,1,0,0,0,0,0,0,0,.90600002,.51099998,52.341465\\nAlmond Joy,1,0,0,1,0,0,0,1,0,.465,.76700002,50.347546\\nBaby Ruth,1,0,1,1,1,0,0,1,0,.60399997,.76700002,56.914547\\nBoston Baked Beans,0,0,0,1,0,0,0,0,1,.31299999,.51099998,23.417824\\nCandy Corn,0,0,0,0,0,0,0,0,1,.90600002,.32499999,38.010963\\nCaramel Apple Pops,0,1,1,0,0,0,0,0,0,.60399997,.32499999,34.517681\\nCharleston Chew,1,0,0,0,1,0,0,1,0,.60399997,.51099998,38.975037\\nChewey Lemonhead Fruit Mix,0,1,0,0,0,0,0,0,1,.73199999,.51099998,36.017628\\nChiclets,0,1,0,0,0,0,0,0,1,.046,.32499999,24.524988\\nDots,0,1,0,0,0,0,0,0,1,.73199999,.51099998,42.272076\\nDum Dums,0,1,0,0,0,0,1,0,0,.73199999,.034000002,39.460556\\nFruit Chews,0,1,0,0,0,0,0,0,1,.127,.034000002,43.088924\\nFun Dip,0,1,0,0,0,0,1,0,0,.73199999,.32499999,39.185505\\nGobstopper,0,1,0,0,0,0,1,0,1,.90600002,.45300001,46.783348\\nHaribo Gold Bears,0,1,0,0,0,0,0,0,1,.465,.465,57.11974\\nHaribo Happy Cola,0,0,0,0,0,0,0,0,1,.465,.465,34.158958\\nHaribo Sour Bears,0,1,0,0,0,0,0,0,1,.465,.465,51.41243\\nHaribo Twin Snakes,0,1,0,0,0,0,0,0,1,.465,.465,42.178772\\nHershey\\xc3\\x95s Kisses,1,0,0,0,0,0,0,0,1,.127,.093000002,55.375454\\nHershey\\xc3\\x95s Krackel,1,0,0,0,0,1,0,1,0,.43000001,.91799998,62.284481\\nHershey\\xc3\\x95s Milk Chocolate,1,0,0,0,0,0,0,1,0,.43000001,.91799998,56.490501\\nHershey\\xc3\\x95s Special Dark,1,0,0,0,0,0,0,1,0,.43000001,.91799998,59.236122\\nJawbusters,0,1,0,0,0,0,1,0,1,.093000002,.51099998,28.127439\\nJunior Mints,1,0,0,0,0,0,0,0,1,.197,.51099998,57.21925\\nKit Kat,1,0,0,0,0,1,0,1,0,.31299999,.51099998,76.7686\\nLaffy Taffy,0,1,0,0,0,0,0,0,0,.22,.116,41.389557\\nLemonhead,0,1,0,0,0,0,1,0,0,.046,.104,39.141056\\nLifesavers big ring gummies,0,1,0,0,0,0,0,0,0,.26699999,.27900001,52.911392\\nPeanut butter M&M\\xc3\\x95s,1,0,0,1,0,0,0,0,1,.82499999,.65100002,71.46505\\nM&M\\xc3\\x95s,1,0,0,0,0,0,0,0,1,.82499999,.65100002,66.574585\\nMike & Ike,0,1,0,0,0,0,0,0,1,.87199998,.32499999,46.411716\\nMilk Duds,1,0,1,0,0,0,0,0,1,.30199999,.51099998,55.064072\\nMilky Way,1,0,1,0,1,0,0,1,0,.60399997,.65100002,73.099556\\nMilky Way Midnight,1,0,1,0,1,0,0,1,0,.73199999,.44100001,60.800701\\nMilky Way Simply Caramel,1,0,1,0,0,0,0,1,0,.96499997,.86000001,64.35334\\nMounds,1,0,0,0,0,0,0,1,0,.31299999,.86000001,47.829754\\nMr Good Bar,1,0,0,1,0,0,0,1,0,.31299999,.91799998,54.526451\\nNerds,0,1,0,0,0,0,1,0,1,.84799999,.32499999,55.354046\\nNestle Butterfinger,1,0,0,1,0,0,0,1,0,.60399997,.76700002,70.735641\\nNestle Crunch,1,0,0,0,0,1,0,1,0,.31299999,.76700002,66.47068\\nNik L Nip,0,1,0,0,0,0,0,0,1,.197,.97600001,22.445341\\nNow & Later,0,1,0,0,0,0,0,0,1,.22,.32499999,39.4468\\nPayday,0,0,0,1,1,0,0,1,0,.465,.76700002,46.296597\\nPeanut M&Ms,1,0,0,1,0,0,0,0,1,.59299999,.65100002,69.483788\\nPixie Sticks,0,0,0,0,0,0,0,0,1,.093000002,.023,37.722336\\nPop Rocks,0,1,0,0,0,0,1,0,1,.60399997,.83700001,41.265511\\nRed vines,0,1,0,0,0,0,0,0,1,.58099997,.116,37.348522\\nReese\\xc3\\x95s Miniatures,1,0,0,1,0,0,0,0,0,.034000002,.27900001,81.866257\\nReese\\xc3\\x95s Peanut Butter cup,1,0,0,1,0,0,0,0,0,.72000003,.65100002,84.18029\\nReese\\xc3\\x95s pieces,1,0,0,1,0,0,0,0,1,.40599999,.65100002,73.43499\\nReese\\xc3\\x95s stuffed with pieces,1,0,0,1,0,0,0,0,0,.98799998,.65100002,72.887901\\nRing pop,0,1,0,0,0,0,1,0,0,.73199999,.96499997,35.290756\\nRolo,1,0,1,0,0,0,0,0,1,.86000001,.86000001,65.716286\\nRoot Beer Barrels,0,0,0,0,0,0,1,0,1,.73199999,.068999998,29.703691\\nRunts,0,1,0,0,0,0,1,0,1,.87199998,.27900001,42.849144\\nSixlets,1,0,0,0,0,0,0,0,1,.22,.081,34.722\\nSkittles original,0,1,0,0,0,0,0,0,1,.94099998,.22,63.08514\\nSkittles wildberry,0,1,0,0,0,0,0,0,1,.94099998,.22,55.103695\\nNestle Smarties,1,0,0,0,0,0,0,0,1,.26699999,.97600001,37.887188\\nSmarties candy,0,1,0,0,0,0,1,0,1,.26699999,.116,45.995827\\nSnickers,1,0,1,1,1,0,0,1,0,.546,.65100002,76.673782\\nSnickers Crisper,1,0,1,1,0,1,0,1,0,.60399997,.65100002,59.529251\\nSour Patch Kids,0,1,0,0,0,0,0,0,1,.068999998,.116,59.863998\\nSour Patch Tricksters,0,1,0,0,0,0,0,0,1,.068999998,.116,52.825947\\nStarburst,0,1,0,0,0,0,0,0,1,.15099999,.22,67.037628\\nStrawberry bon bons,0,1,0,0,0,0,1,0,1,.56900001,.057999998,34.578991\\nSugar Babies,0,0,1,0,0,0,0,0,1,.96499997,.76700002,33.43755\\nSugar Daddy,0,0,1,0,0,0,0,0,0,.41800001,.32499999,32.230995\\nSuper Bubble,0,1,0,0,0,0,0,0,0,.162,.116,27.303865\\nSwedish Fish,0,1,0,0,0,0,0,0,1,.60399997,.755,54.861111\\nTootsie Pop,1,1,0,0,0,0,1,0,0,.60399997,.32499999,48.982651\\nTootsie Roll Juniors,1,0,0,0,0,0,0,0,0,.31299999,.51099998,43.068897\\nTootsie Roll Midgies,1,0,0,0,0,0,0,0,1,.17399999,.011,45.736748\\nTootsie Roll Snack Bars,1,0,0,0,0,0,0,1,0,.465,.32499999,49.653503\\nTrolli Sour Bites,0,1,0,0,0,0,0,0,1,.31299999,.255,47.173229\\nTwix,1,0,1,0,0,1,0,1,0,.546,.90600002,81.642914\\nTwizzlers,0,1,0,0,0,0,0,0,0,.22,.116,45.466282\\nWarheads,0,1,0,0,0,0,1,0,0,.093000002,.116,39.011898\\nWelch\\xc3\\x95s Fruit Snacks,0,1,0,0,0,0,0,0,1,.31299999,.31299999,44.375519\\nWerther\\xc3\\x95s Original Caramel,0,0,1,0,0,0,1,0,0,.186,.26699999,41.904308\\nWhoppers,1,0,0,0,0,1,0,0,1,.87199998,.84799999,49.524113\\n'}"
            ]
          },
          "metadata": {
            "tags": []
          },
          "execution_count": 3
        }
      ]
    },
    {
      "cell_type": "code",
      "metadata": {
        "id": "0g4Aov0XReYC"
      },
      "source": [
        "candyData=pd.read_csv(io.StringIO(uploaded['candy-data.csv'].decode('utf-8'))) # Load the CSV files into dataframe"
      ],
      "execution_count": null,
      "outputs": []
    },
    {
      "cell_type": "code",
      "metadata": {
        "colab": {
          "base_uri": "https://localhost:8080/",
          "height": 407
        },
        "id": "lcgaRwCtRl4a",
        "outputId": "abebd53e-fa4a-494c-96f6-04b9f88d2f42"
      },
      "source": [
        "candyData"
      ],
      "execution_count": null,
      "outputs": [
        {
          "output_type": "execute_result",
          "data": {
            "text/html": [
              "<div>\n",
              "<style scoped>\n",
              "    .dataframe tbody tr th:only-of-type {\n",
              "        vertical-align: middle;\n",
              "    }\n",
              "\n",
              "    .dataframe tbody tr th {\n",
              "        vertical-align: top;\n",
              "    }\n",
              "\n",
              "    .dataframe thead th {\n",
              "        text-align: right;\n",
              "    }\n",
              "</style>\n",
              "<table border=\"1\" class=\"dataframe\">\n",
              "  <thead>\n",
              "    <tr style=\"text-align: right;\">\n",
              "      <th></th>\n",
              "      <th>competitorname</th>\n",
              "      <th>chocolate</th>\n",
              "      <th>fruity</th>\n",
              "      <th>caramel</th>\n",
              "      <th>peanutyalmondy</th>\n",
              "      <th>nougat</th>\n",
              "      <th>crispedricewafer</th>\n",
              "      <th>hard</th>\n",
              "      <th>bar</th>\n",
              "      <th>pluribus</th>\n",
              "      <th>sugarpercent</th>\n",
              "      <th>pricepercent</th>\n",
              "      <th>winpercent</th>\n",
              "    </tr>\n",
              "  </thead>\n",
              "  <tbody>\n",
              "    <tr>\n",
              "      <th>0</th>\n",
              "      <td>100 Grand</td>\n",
              "      <td>1</td>\n",
              "      <td>0</td>\n",
              "      <td>1</td>\n",
              "      <td>0</td>\n",
              "      <td>0</td>\n",
              "      <td>1</td>\n",
              "      <td>0</td>\n",
              "      <td>1</td>\n",
              "      <td>0</td>\n",
              "      <td>0.732</td>\n",
              "      <td>0.860</td>\n",
              "      <td>66.971725</td>\n",
              "    </tr>\n",
              "    <tr>\n",
              "      <th>1</th>\n",
              "      <td>3 Musketeers</td>\n",
              "      <td>1</td>\n",
              "      <td>0</td>\n",
              "      <td>0</td>\n",
              "      <td>0</td>\n",
              "      <td>1</td>\n",
              "      <td>0</td>\n",
              "      <td>0</td>\n",
              "      <td>1</td>\n",
              "      <td>0</td>\n",
              "      <td>0.604</td>\n",
              "      <td>0.511</td>\n",
              "      <td>67.602936</td>\n",
              "    </tr>\n",
              "    <tr>\n",
              "      <th>2</th>\n",
              "      <td>One dime</td>\n",
              "      <td>0</td>\n",
              "      <td>0</td>\n",
              "      <td>0</td>\n",
              "      <td>0</td>\n",
              "      <td>0</td>\n",
              "      <td>0</td>\n",
              "      <td>0</td>\n",
              "      <td>0</td>\n",
              "      <td>0</td>\n",
              "      <td>0.011</td>\n",
              "      <td>0.116</td>\n",
              "      <td>32.261086</td>\n",
              "    </tr>\n",
              "    <tr>\n",
              "      <th>3</th>\n",
              "      <td>One quarter</td>\n",
              "      <td>0</td>\n",
              "      <td>0</td>\n",
              "      <td>0</td>\n",
              "      <td>0</td>\n",
              "      <td>0</td>\n",
              "      <td>0</td>\n",
              "      <td>0</td>\n",
              "      <td>0</td>\n",
              "      <td>0</td>\n",
              "      <td>0.011</td>\n",
              "      <td>0.511</td>\n",
              "      <td>46.116505</td>\n",
              "    </tr>\n",
              "    <tr>\n",
              "      <th>4</th>\n",
              "      <td>Air Heads</td>\n",
              "      <td>0</td>\n",
              "      <td>1</td>\n",
              "      <td>0</td>\n",
              "      <td>0</td>\n",
              "      <td>0</td>\n",
              "      <td>0</td>\n",
              "      <td>0</td>\n",
              "      <td>0</td>\n",
              "      <td>0</td>\n",
              "      <td>0.906</td>\n",
              "      <td>0.511</td>\n",
              "      <td>52.341465</td>\n",
              "    </tr>\n",
              "    <tr>\n",
              "      <th>...</th>\n",
              "      <td>...</td>\n",
              "      <td>...</td>\n",
              "      <td>...</td>\n",
              "      <td>...</td>\n",
              "      <td>...</td>\n",
              "      <td>...</td>\n",
              "      <td>...</td>\n",
              "      <td>...</td>\n",
              "      <td>...</td>\n",
              "      <td>...</td>\n",
              "      <td>...</td>\n",
              "      <td>...</td>\n",
              "      <td>...</td>\n",
              "    </tr>\n",
              "    <tr>\n",
              "      <th>80</th>\n",
              "      <td>Twizzlers</td>\n",
              "      <td>0</td>\n",
              "      <td>1</td>\n",
              "      <td>0</td>\n",
              "      <td>0</td>\n",
              "      <td>0</td>\n",
              "      <td>0</td>\n",
              "      <td>0</td>\n",
              "      <td>0</td>\n",
              "      <td>0</td>\n",
              "      <td>0.220</td>\n",
              "      <td>0.116</td>\n",
              "      <td>45.466282</td>\n",
              "    </tr>\n",
              "    <tr>\n",
              "      <th>81</th>\n",
              "      <td>Warheads</td>\n",
              "      <td>0</td>\n",
              "      <td>1</td>\n",
              "      <td>0</td>\n",
              "      <td>0</td>\n",
              "      <td>0</td>\n",
              "      <td>0</td>\n",
              "      <td>1</td>\n",
              "      <td>0</td>\n",
              "      <td>0</td>\n",
              "      <td>0.093</td>\n",
              "      <td>0.116</td>\n",
              "      <td>39.011898</td>\n",
              "    </tr>\n",
              "    <tr>\n",
              "      <th>82</th>\n",
              "      <td>WelchÕs Fruit Snacks</td>\n",
              "      <td>0</td>\n",
              "      <td>1</td>\n",
              "      <td>0</td>\n",
              "      <td>0</td>\n",
              "      <td>0</td>\n",
              "      <td>0</td>\n",
              "      <td>0</td>\n",
              "      <td>0</td>\n",
              "      <td>1</td>\n",
              "      <td>0.313</td>\n",
              "      <td>0.313</td>\n",
              "      <td>44.375519</td>\n",
              "    </tr>\n",
              "    <tr>\n",
              "      <th>83</th>\n",
              "      <td>WertherÕs Original Caramel</td>\n",
              "      <td>0</td>\n",
              "      <td>0</td>\n",
              "      <td>1</td>\n",
              "      <td>0</td>\n",
              "      <td>0</td>\n",
              "      <td>0</td>\n",
              "      <td>1</td>\n",
              "      <td>0</td>\n",
              "      <td>0</td>\n",
              "      <td>0.186</td>\n",
              "      <td>0.267</td>\n",
              "      <td>41.904308</td>\n",
              "    </tr>\n",
              "    <tr>\n",
              "      <th>84</th>\n",
              "      <td>Whoppers</td>\n",
              "      <td>1</td>\n",
              "      <td>0</td>\n",
              "      <td>0</td>\n",
              "      <td>0</td>\n",
              "      <td>0</td>\n",
              "      <td>1</td>\n",
              "      <td>0</td>\n",
              "      <td>0</td>\n",
              "      <td>1</td>\n",
              "      <td>0.872</td>\n",
              "      <td>0.848</td>\n",
              "      <td>49.524113</td>\n",
              "    </tr>\n",
              "  </tbody>\n",
              "</table>\n",
              "<p>85 rows × 13 columns</p>\n",
              "</div>"
            ],
            "text/plain": [
              "                competitorname  chocolate  ...  pricepercent  winpercent\n",
              "0                    100 Grand          1  ...         0.860   66.971725\n",
              "1                 3 Musketeers          1  ...         0.511   67.602936\n",
              "2                     One dime          0  ...         0.116   32.261086\n",
              "3                  One quarter          0  ...         0.511   46.116505\n",
              "4                    Air Heads          0  ...         0.511   52.341465\n",
              "..                         ...        ...  ...           ...         ...\n",
              "80                   Twizzlers          0  ...         0.116   45.466282\n",
              "81                    Warheads          0  ...         0.116   39.011898\n",
              "82        WelchÕs Fruit Snacks          0  ...         0.313   44.375519\n",
              "83  WertherÕs Original Caramel          0  ...         0.267   41.904308\n",
              "84                    Whoppers          1  ...         0.848   49.524113\n",
              "\n",
              "[85 rows x 13 columns]"
            ]
          },
          "metadata": {
            "tags": []
          },
          "execution_count": 5
        }
      ]
    },
    {
      "cell_type": "code",
      "metadata": {
        "colab": {
          "base_uri": "https://localhost:8080/"
        },
        "id": "ysqfJTpxRuIs",
        "outputId": "45f512e6-ef2a-40b8-b448-9916c2091bdc"
      },
      "source": [
        "candyData.info()"
      ],
      "execution_count": null,
      "outputs": [
        {
          "output_type": "stream",
          "text": [
            "<class 'pandas.core.frame.DataFrame'>\n",
            "RangeIndex: 85 entries, 0 to 84\n",
            "Data columns (total 13 columns):\n",
            " #   Column            Non-Null Count  Dtype  \n",
            "---  ------            --------------  -----  \n",
            " 0   competitorname    85 non-null     object \n",
            " 1   chocolate         85 non-null     int64  \n",
            " 2   fruity            85 non-null     int64  \n",
            " 3   caramel           85 non-null     int64  \n",
            " 4   peanutyalmondy    85 non-null     int64  \n",
            " 5   nougat            85 non-null     int64  \n",
            " 6   crispedricewafer  85 non-null     int64  \n",
            " 7   hard              85 non-null     int64  \n",
            " 8   bar               85 non-null     int64  \n",
            " 9   pluribus          85 non-null     int64  \n",
            " 10  sugarpercent      85 non-null     float64\n",
            " 11  pricepercent      85 non-null     float64\n",
            " 12  winpercent        85 non-null     float64\n",
            "dtypes: float64(3), int64(9), object(1)\n",
            "memory usage: 8.8+ KB\n"
          ],
          "name": "stdout"
        }
      ]
    },
    {
      "cell_type": "markdown",
      "metadata": {
        "id": "OdQaVdiElgve"
      },
      "source": [
        "#**Applying the algorithm**"
      ]
    },
    {
      "cell_type": "code",
      "metadata": {
        "id": "w4NR8hTyURjn"
      },
      "source": [
        "corr_matrix = candyData.corr()"
      ],
      "execution_count": null,
      "outputs": []
    },
    {
      "cell_type": "code",
      "metadata": {
        "colab": {
          "base_uri": "https://localhost:8080/",
          "height": 615
        },
        "id": "S9cH1qTOUfXQ",
        "outputId": "80dfefcd-e9a5-4a57-c2d5-e13ba1f3253c"
      },
      "source": [
        "plt.figure(figsize=(20,10)) # setting the plot size\n",
        "sns.heatmap(corr_matrix.abs(),annot=True)"
      ],
      "execution_count": null,
      "outputs": [
        {
          "output_type": "execute_result",
          "data": {
            "text/plain": [
              "<matplotlib.axes._subplots.AxesSubplot at 0x7fc15a2fc128>"
            ]
          },
          "metadata": {
            "tags": []
          },
          "execution_count": 7
        },
        {
          "output_type": "display_data",
          "data": {
            "image/png": "[encoded data removed]",
            "text/plain": [
              "<Figure size 1440x720 with 2 Axes>"
            ]
          },
          "metadata": {
            "tags": [],
            "needs_background": "light"
          }
        }
      ]
    },
    {
      "cell_type": "code",
      "metadata": {
        "id": "NkzySMqsriBm"
      },
      "source": [
        "candyData[\"WIN\"] = \"\"\n",
        "for i in range(len(candyData)):\n",
        "    if candyData.loc[i,\"winpercent\"] <= 60:\n",
        "        candyData.loc[i,\"WIN\"] = 0\n",
        "    else:\n",
        "        candyData.loc[i,\"WIN\"] = 1"
      ],
      "execution_count": null,
      "outputs": []
    },
    {
      "cell_type": "markdown",
      "metadata": {
        "id": "R9uiGxJDsxv6"
      },
      "source": [
        "I have written this manual piece of code to add a new column in the dataframe by the name of \"WIN\". It is of binary nature. The threshold for a candy to be categorised as successful has been set to 80% here. If the winpercent of the candy is less than 70  percent it is deemed as a failure. Success is represented as '1' and failure is '0'.  \n",
        "Bingo now we are ready to train and test our model. But there is a slight modification to the data that we need to do before continuing.  "
      ]
    },
    {
      "cell_type": "code",
      "metadata": {
        "colab": {
          "base_uri": "https://localhost:8080/"
        },
        "id": "75fK_SMOrlQn",
        "outputId": "c52413b8-4f2f-4b27-9de0-197ffa6d23a6"
      },
      "source": [
        "candyData.info()"
      ],
      "execution_count": null,
      "outputs": [
        {
          "output_type": "stream",
          "text": [
            "<class 'pandas.core.frame.DataFrame'>\n",
            "RangeIndex: 85 entries, 0 to 84\n",
            "Data columns (total 14 columns):\n",
            " #   Column            Non-Null Count  Dtype  \n",
            "---  ------            --------------  -----  \n",
            " 0   competitorname    85 non-null     object \n",
            " 1   chocolate         85 non-null     int64  \n",
            " 2   fruity            85 non-null     int64  \n",
            " 3   caramel           85 non-null     int64  \n",
            " 4   peanutyalmondy    85 non-null     int64  \n",
            " 5   nougat            85 non-null     int64  \n",
            " 6   crispedricewafer  85 non-null     int64  \n",
            " 7   hard              85 non-null     int64  \n",
            " 8   bar               85 non-null     int64  \n",
            " 9   pluribus          85 non-null     int64  \n",
            " 10  sugarpercent      85 non-null     float64\n",
            " 11  pricepercent      85 non-null     float64\n",
            " 12  winpercent        85 non-null     float64\n",
            " 13  WIN               85 non-null     object \n",
            "dtypes: float64(3), int64(9), object(2)\n",
            "memory usage: 9.4+ KB\n"
          ],
          "name": "stdout"
        }
      ]
    },
    {
      "cell_type": "markdown",
      "metadata": {
        "id": "Oy88E_S3tmaO"
      },
      "source": [
        "If we see the datatype of the newly created \"WIN\" column it is of object nature. We cannot perform logistic regression on such datatype. The only permitted datatypes are 'binary', 'multiclass', 'multiclass-multioutput',\n",
        " 'multilabel-indicator' and 'multilabel-sequences'.  \n",
        " So, we need to convert this datatype into one of the acceptable datatypes.\n",
        " I converted it into integer datatype. 0's and 1's make the column as a binary  column.\n"
      ]
    },
    {
      "cell_type": "code",
      "metadata": {
        "id": "yR9dZEOirnEH"
      },
      "source": [
        "candyData.WIN=candyData.WIN.astype(int)"
      ],
      "execution_count": null,
      "outputs": []
    },
    {
      "cell_type": "code",
      "metadata": {
        "colab": {
          "base_uri": "https://localhost:8080/"
        },
        "id": "5HhyDo-mrrd1",
        "outputId": "d2a3d201-4435-4e71-d2af-e6d255945936"
      },
      "source": [
        "candyData.info()"
      ],
      "execution_count": null,
      "outputs": [
        {
          "output_type": "stream",
          "text": [
            "<class 'pandas.core.frame.DataFrame'>\n",
            "RangeIndex: 85 entries, 0 to 84\n",
            "Data columns (total 14 columns):\n",
            " #   Column            Non-Null Count  Dtype  \n",
            "---  ------            --------------  -----  \n",
            " 0   competitorname    85 non-null     object \n",
            " 1   chocolate         85 non-null     int64  \n",
            " 2   fruity            85 non-null     int64  \n",
            " 3   caramel           85 non-null     int64  \n",
            " 4   peanutyalmondy    85 non-null     int64  \n",
            " 5   nougat            85 non-null     int64  \n",
            " 6   crispedricewafer  85 non-null     int64  \n",
            " 7   hard              85 non-null     int64  \n",
            " 8   bar               85 non-null     int64  \n",
            " 9   pluribus          85 non-null     int64  \n",
            " 10  sugarpercent      85 non-null     float64\n",
            " 11  pricepercent      85 non-null     float64\n",
            " 12  winpercent        85 non-null     float64\n",
            " 13  WIN               85 non-null     int64  \n",
            "dtypes: float64(3), int64(10), object(1)\n",
            "memory usage: 9.4+ KB\n"
          ],
          "name": "stdout"
        }
      ]
    },
    {
      "cell_type": "markdown",
      "metadata": {
        "id": "QOg5vUopughs"
      },
      "source": [
        " Bingo, we are now good to go!"
      ]
    },
    {
      "cell_type": "code",
      "metadata": {
        "id": "8mT_o1Sor-Y7"
      },
      "source": [
        "feature_cols = ['chocolate', 'fruity', 'caramel', 'peanutyalmondy','nougat','crispedricewafer','hard', 'bar','pluribus','sugarpercent', 'pricepercent']\n",
        "X = candyData[feature_cols] # Features\n",
        "y = candyData.WIN # Target variable"
      ],
      "execution_count": null,
      "outputs": []
    },
    {
      "cell_type": "markdown",
      "metadata": {
        "id": "GAfYAiUHuwFQ"
      },
      "source": [
        "Here, I am considering all the columns as my features to deterine the succcess of a candy. If we want, we could remove the last three features from the feature_cols to solely base the success of a candy on its ingredients."
      ]
    },
    {
      "cell_type": "code",
      "metadata": {
        "id": "EMhNr4oQrtyj"
      },
      "source": [
        "from sklearn.model_selection import train_test_split\n",
        "X_train,X_test,y_train,y_test=train_test_split(X,y,test_size=0.25,random_state=0)"
      ],
      "execution_count": null,
      "outputs": []
    },
    {
      "cell_type": "markdown",
      "metadata": {
        "id": "8s1vJMl3vKR6"
      },
      "source": [
        "train_test_split is a powerful library which splits the data into testing and training data in just a single line. Here, the training data accounts for the 75% of our data set and the rest is the data we test our model on to predict the accuracy of our model."
      ]
    },
    {
      "cell_type": "code",
      "metadata": {
        "id": "MbSmdPPVrwNv"
      },
      "source": [
        "from sklearn.linear_model import LogisticRegression\n",
        "\n",
        "# instantiate the model (using the default parameters)\n",
        "logreg = LogisticRegression()\n",
        "\n",
        "# fit the model with data\n",
        "logreg.fit(X_train,y_train)\n",
        "\n",
        "#\n",
        "y_pred=logreg.predict(X_test)"
      ],
      "execution_count": null,
      "outputs": []
    },
    {
      "cell_type": "markdown",
      "metadata": {
        "id": "ggYYKWqXwEw0"
      },
      "source": [
        "Here, we fit our model with our training data. That is, the values of X_train and how it affects y_train is understood by our model and then we make the predictions to our model by passing it the X_test and storing the results in y_pred. \\\n",
        "Now, we would want to see how our model performed! \\\n",
        "So we would want to compare the values of y_test and y_train and see how our model performed!"
      ]
    },
    {
      "cell_type": "code",
      "metadata": {
        "colab": {
          "base_uri": "https://localhost:8080/"
        },
        "id": "9AmpGPo-ryf-",
        "outputId": "0e03c5c0-d579-4f0e-ea7d-abd4b31d33f3"
      },
      "source": [
        "from sklearn import metrics\n",
        "cnf_matrix = metrics.confusion_matrix(y_test, y_pred)\n",
        "cnf_matrix"
      ],
      "execution_count": null,
      "outputs": [
        {
          "output_type": "execute_result",
          "data": {
            "text/plain": [
              "array([[17,  1],\n",
              "       [ 3,  1]])"
            ]
          },
          "metadata": {
            "tags": []
          },
          "execution_count": 102
        }
      ]
    },
    {
      "cell_type": "markdown",
      "metadata": {
        "id": "tN17Sb1W9AFp"
      },
      "source": [
        "The confusion matrix, as the name suggests, is a matrix that is popluarly used to describe the performance of logistic regression model on a set of test data for which the true values are known.  \n",
        "Here '17' and '1' are the desired values (along the principle diagonal) or right predictions and '1' and '3' are the wrong predictions. These are essentially true positives, true negatives, false positives and false negatives. So we want true positives and false negatives for the indexes 00, 01, 10, and 11 of the matrix respectively."
      ]
    },
    {
      "cell_type": "code",
      "metadata": {
        "colab": {
          "base_uri": "https://localhost:8080/"
        },
        "id": "pziwBP8Vr0hi",
        "outputId": "32b330f4-d10f-4d67-9ba0-9d822b4d97dd"
      },
      "source": [
        "print(\"Accuracy:\",metrics.accuracy_score(y_test, y_pred))\n",
        "print('Root Mean Squared Error:', np.sqrt(metrics.mean_squared_error(y_test, y_pred)))"
      ],
      "execution_count": null,
      "outputs": [
        {
          "output_type": "stream",
          "text": [
            "Accuracy: 0.8620689655172413\n",
            "Root Mean Squared Error: 0.8137139067635417\n"
          ],
          "name": "stdout"
        }
      ]
    },
    {
      "cell_type": "markdown",
      "metadata": {
        "id": "KUKf9m6R5Kf6"
      },
      "source": [
        "#**Visualize**"
      ]
    },
    {
      "cell_type": "code",
      "metadata": {
        "colab": {
          "base_uri": "https://localhost:8080/",
          "height": 477
        },
        "id": "c77T_pNu51HD",
        "outputId": "024f7d76-fa88-474a-dc6e-fa0550922764"
      },
      "source": [
        "import matplotlib.pyplot as plt\n",
        "_, axes = plt.subplots()\n",
        "\n",
        "axes.scatter(x = range(0, y_test.size), y=y_test, c = 'blue', label = 'Actual', alpha = 0.3)\n",
        "axes.scatter(x = range(0, y_pred.size), y=y_pred, c = 'red', label = 'Predicted', alpha = 0.3)\n",
        "\n",
        "plt.title('Actual and predicted values')\n",
        "plt.xlabel('Observations')\n",
        "plt.ylabel('mpg')\n",
        "plt.legend()\n",
        "plt.show()"
      ],
      "execution_count": null,
      "outputs": [
        {
          "output_type": "display_data",
          "data": {
            "image/png": "[encoded data removed]",
            "text/plain": [
              "<Figure size 640x480 with 1 Axes>"
            ]
          },
          "metadata": {
            "tags": []
          }
        }
      ]
    },
    {
      "cell_type": "code",
      "metadata": {
        "id": "LJrj5TdEH8VD"
      },
      "source": [
        ""
      ],
      "execution_count": null,
      "outputs": []
    },
    {
      "cell_type": "markdown",
      "metadata": {
        "id": "sfKkxGM591PY"
      },
      "source": [
        "Here, I have used the most commonly used graph when it comes to logistic regression. The graph is pretty much self-explanatory. If the actual and predicted values are the same, then we have a magenta/ purple dot (red+blue) (p.s. I am not good with colours and thier names)  \n",
        "I see in the graph, our model predicted 4 of the values wrongly."
      ]
    },
    {
      "cell_type": "markdown",
      "metadata": {
        "id": "NGwCdTVu5Qx-"
      },
      "source": [
        "#**Discussion**"
      ]
    },
    {
      "cell_type": "markdown",
      "metadata": {
        "id": "F3iLFU0l_DV-"
      },
      "source": [
        "I believe that we have a fairly solid model here with a fairly decent accuracy and root mean squared value. This shall be able to predict the success of a candy correctly for most of the time.  \n",
        "I believe the only point at which the model is lagging is the size of the dataset. It is a fairly small dataset, so our model did not have ample training data to train on. The model could turn out to be a lot more accurate and robust should we have a bigger dataset for our model to train on.  \n",
        "Let us make a fictional case to test our model on! \n",
        "We could add some fictional rows to the our X_test and y_test. X_test has a lot of features, and to carefully select the right values to successfully write down the accurate winpercent of that candy is very complex. I would not know if my model has predicted correctly as I dont know the correct result to begin with so I did not.  \n",
        " But I can explain the process that I thought of. The process itself is very simple. We do not re-train the existing model. We append a row (the values for the ingredients) to X_test and the corresponding correct result (winpercent) to the y_test. Then, pass X_test again to our model and then see the results (y_pred). Then we can print the y_pred series to observe if the model has correctly predicted the results or not."
      ]
    },
    {
      "cell_type": "markdown",
      "metadata": {
        "id": "-euaXWy15gCe"
      },
      "source": [
        "#**Summary**\n",
        "**Mission**- I will look at the ingredients of a candy and its win percentage, and then predict if a new candy would be a hit or not based on its ingredients.  \n",
        "**Results**- I think my model has performed decently well. As said earlier, the size of the dataset in itself is not sufficient for me to speak so confidently about the perfomance of my model created. But as for the given data, it has given an excellent performance.  \n",
        "**Improvements**- Honestly, I do not know if any other model would have had performed better than this one. Multiple linear regression was not giving me the desired results, I was getting a lot of false positives./\n",
        "I could think of using classification algorithms here, to divide the results into two classes- successful and unsuccessful. But I cannot say if this would improve on the results or not. The only way to know for sure is to try and see for our selves.  \n",
        "**Conclusion**- The linear and multiple linear regression had been already discussed in the class so I wanted to do something new. I faced alot of errors and had to do alot of brainstorming to complete the task at hand. I learnt alot about linear multiple regression (although I didnot apply it, the knowledge never goes in vain) and logistic regression and where to use which visualisation technique."
      ]
    },
    {
      "cell_type": "markdown",
      "metadata": {
        "id": "2dBAF01XoQYL"
      },
      "source": [
        "#**References**\n",
        "1.  Kaggle.com. 2020. The Ultimate Halloween Candy Power Ranking. [online] Available at: <https://www.kaggle.com/fivethirtyeight/the-ultimate-halloween-candy-power-ranking/> [Accessed 16 December 2020]. \n",
        "2.  Bartosz Mikulski. 2020. How To Visualise Prediction Errors. [online] Available at: <https://www.mikulskibartosz.name/how-to-visualise-prediction-errors/> [Accessed 16 December 2020].\n",
        "3. Pandas.pydata.org. 2020. Pandas.Series.Append — Pandas 1.1.5 Documentation. [online] Available at: <https://pandas.pydata.org/pandas-docs/stable/reference/api/pandas.Series.append.html> [Accessed 16 December 2020]."
      ]
    }
  ]
}